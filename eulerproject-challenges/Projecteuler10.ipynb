{
 "cells": [
  {
   "cell_type": "code",
   "execution_count": 1,
   "id": "638ba1df",
   "metadata": {},
   "outputs": [],
   "source": [
    "from math import sqrt as s"
   ]
  },
  {
   "cell_type": "code",
   "execution_count": 14,
   "id": "9a8dd58b",
   "metadata": {},
   "outputs": [],
   "source": [
    "def is_prime(x):\n",
    "    for i in range(2,(int(s(x))+1)):\n",
    "        if x % i == 0:\n",
    "            return False\n",
    "    return True"
   ]
  },
  {
   "cell_type": "code",
   "execution_count": 15,
   "id": "918c247d",
   "metadata": {},
   "outputs": [
    {
     "name": "stdout",
     "output_type": "stream",
     "text": [
      "142913828922\n"
     ]
    }
   ],
   "source": [
    "sum = 0\n",
    "n = 2000000\n",
    "for i in range (2,n+1):\n",
    "    if is_prime(i):\n",
    "        sum += i\n",
    "print (sum)"
   ]
  }
 ],
 "metadata": {
  "kernelspec": {
   "display_name": "Python 3 (ipykernel)",
   "language": "python",
   "name": "python3"
  },
  "language_info": {
   "codemirror_mode": {
    "name": "ipython",
    "version": 3
   },
   "file_extension": ".py",
   "mimetype": "text/x-python",
   "name": "python",
   "nbconvert_exporter": "python",
   "pygments_lexer": "ipython3",
   "version": "3.9.6"
  }
 },
 "nbformat": 4,
 "nbformat_minor": 5
}
