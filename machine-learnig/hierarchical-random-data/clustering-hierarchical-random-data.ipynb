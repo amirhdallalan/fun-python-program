{
 "cells": [
  {
   "cell_type": "code",
   "execution_count": 22,
   "metadata": {},
   "outputs": [],
   "source": [
    "import numpy as np\n",
    "from scipy.cluster import hierarchy\n",
    "from scipy.spatial import distance_matrix\n",
    "from matplotlib import pyplot as plt\n",
    "from sklearn.cluster import AgglomerativeClustering\n",
    "from sklearn.datasets import make_blobs"
   ]
  },
  {
   "cell_type": "code",
   "execution_count": 23,
   "metadata": {},
   "outputs": [
    {
     "data": {
      "text/plain": [
       "<matplotlib.collections.PathCollection at 0x1321a3c0430>"
      ]
     },
     "execution_count": 23,
     "metadata": {},
     "output_type": "execute_result"
    },
    {
     "data": {
      "image/png": "[encoded data removed]",
      "text/plain": [
       "<Figure size 432x288 with 1 Axes>"
      ]
     },
     "metadata": {
      "needs_background": "light"
     },
     "output_type": "display_data"
    }
   ],
   "source": [
    "X1, y1 = make_blobs(n_samples=50, cluster_std=0.99, random_state=2)\n",
    "plt.scatter(X1[:, 0], X1[:, 1], marker='o')"
   ]
  },
  {
   "cell_type": "code",
   "execution_count": 24,
   "metadata": {},
   "outputs": [],
   "source": [
    "agglom = AgglomerativeClustering(n_clusters=3, linkage='average')"
   ]
  },
  {
   "cell_type": "code",
   "execution_count": 25,
   "metadata": {},
   "outputs": [
    {
     "data": {
      "text/plain": [
       "AgglomerativeClustering(linkage='average', n_clusters=3)"
      ]
     },
     "execution_count": 25,
     "metadata": {},
     "output_type": "execute_result"
    }
   ],
   "source": [
    "agglom.fit(X1, y1)"
   ]
  },
  {
   "cell_type": "code",
   "execution_count": 28,
   "metadata": {},
   "outputs": [
    {
     "data": {
      "image/png": "[encoded data removed]",
      "text/plain": [
       "<Figure size 432x288 with 1 Axes>"
      ]
     },
     "metadata": {},
     "output_type": "display_data"
    }
   ],
   "source": [
    "plt.figure(figsize=(6, 4))\n",
    "x_min, x_max = np.min(X1, axis=0), np.max(X1, axis=0)\n",
    "X1 = (X1 - x_min) / (x_max - x_min)\n",
    "# num: y1\n",
    "# color: agglom labels\n",
    "for i in range(X1.shape[0]):\n",
    "    plt.text(X1[i, 0], X1[i, 1], str(y1[i]),\n",
    "             color=plt.cm.nipy_spectral(agglom.labels_[i] / 10.),\n",
    "             fontdict={'weight': 'bold', 'size': 9})\n",
    "\n",
    "plt.xticks([])\n",
    "plt.yticks([])\n",
    "plt.scatter(X1[:, 0], X1[:, 1], marker='.')\n",
    "plt.show()"
   ]
  },
  {
   "cell_type": "code",
   "execution_count": 29,
   "metadata": {},
   "outputs": [
    {
     "name": "stdout",
     "output_type": "stream",
     "text": [
      "[[0.         0.34052228 0.35191179 ... 0.18644375 0.6272403  0.20465766]\n",
      " [0.34052228 0.         0.10249969 ... 0.46059776 0.62826008 0.14719489]\n",
      " [0.35191179 0.10249969 0.         ... 0.4311806  0.7264086  0.20008261]\n",
      " ...\n",
      " [0.18644375 0.46059776 0.4311806  ... 0.         0.80978334 0.35631945]\n",
      " [0.6272403  0.62826008 0.7264086  ... 0.80978334 0.         0.56145478]\n",
      " [0.20465766 0.14719489 0.20008261 ... 0.35631945 0.56145478 0.        ]]\n"
     ]
    }
   ],
   "source": [
    "distance_mat = distance_matrix(X1, X1)\n",
    "print(distance_mat)"
   ]
  },
  {
   "cell_type": "code",
   "execution_count": 30,
   "metadata": {},
   "outputs": [
    {
     "name": "stderr",
     "output_type": "stream",
     "text": [
      "C:\\Users\\AMIRH~1.DAL\\AppData\\Local\\Temp/ipykernel_3368/1271877938.py:1: ClusterWarning: scipy.cluster: The symmetric non-negative hollow observation matrix looks suspiciously like an uncondensed distance matrix\n",
      "  z = hierarchy.linkage(distance_mat, 'complete')\n"
     ]
    },
    {
     "data": {
      "image/png": "[encoded data removed]",
      "text/plain": [
       "<Figure size 432x288 with 1 Axes>"
      ]
     },
     "metadata": {
      "needs_background": "light"
     },
     "output_type": "display_data"
    }
   ],
   "source": [
    "z = hierarchy.linkage(distance_mat, 'complete')\n",
    "dendro = hierarchy.dendrogram(z)"
   ]
  }
 ],
 "metadata": {
  "interpreter": {
   "hash": "826c386f26bc1c62e6d274b8427f10ff9d28499415cc927f6425e248384d48ce"
  },
  "kernelspec": {
   "display_name": "Python 3.9.6 64-bit",
   "language": "python",
   "name": "python3"
  },
  "language_info": {
   "codemirror_mode": {
    "name": "ipython",
    "version": 3
   },
   "file_extension": ".py",
   "mimetype": "text/x-python",
   "name": "python",
   "nbconvert_exporter": "python",
   "pygments_lexer": "ipython3",
   "version": "3.9.6"
  },
  "orig_nbformat": 4
 },
 "nbformat": 4,
 "nbformat_minor": 2
}
